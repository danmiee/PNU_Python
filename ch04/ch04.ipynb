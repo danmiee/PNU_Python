{
  "nbformat": 4,
  "nbformat_minor": 0,
  "metadata": {
    "colab": {
      "provenance": [],
      "authorship_tag": "ABX9TyOv6GvWypmetPdqbLIotB6g",
      "include_colab_link": true
    },
    "kernelspec": {
      "name": "python3",
      "display_name": "Python 3"
    },
    "language_info": {
      "name": "python"
    }
  },
  "cells": [
    {
      "cell_type": "markdown",
      "metadata": {
        "id": "view-in-github",
        "colab_type": "text"
      },
      "source": [
        "<a href=\"https://colab.research.google.com/github/danmiee/Python_PNU/blob/main/ch04/ch04.ipynb\" target=\"_parent\"><img src=\"https://colab.research.google.com/assets/colab-badge.svg\" alt=\"Open In Colab\"/></a>"
      ]
    },
    {
      "cell_type": "markdown",
      "source": [
        "파이썬으로 CSV 파일 읽기"
      ],
      "metadata": {
        "id": "jUFIncPnuEP5"
      }
    },
    {
      "cell_type": "code",
      "execution_count": 28,
      "metadata": {
        "colab": {
          "base_uri": "https://localhost:8080/"
        },
        "id": "YpTtfioKrzce",
        "outputId": "1b91bb6e-f1c7-4962-d1f4-ab9e68cd1d28"
      },
      "outputs": [
        {
          "output_type": "stream",
          "name": "stdout",
          "text": [
            "[['name', 'kor', 'eng', 'math'], ['a', '90', '80', '100'], ['b', '80', '90', '90'], ['c', '100', '80', '60']]\n"
          ]
        }
      ],
      "source": [
        "import csv\n",
        "\n",
        "def opencsv_basic(filename):\n",
        "  f = open(filename,\"r\", encoding=\"utf-8\")\n",
        "  # new : csv 객체 => 사용하려면 2차원 리스트로 변환 필요\n",
        "  new = csv.reader(f)\n",
        "  # 리스트 생성\n",
        "  a_list = []\n",
        "  # csv 내용 리스트로 넣어주기\n",
        "  for line in new:\n",
        "    a_list.append(line)\n",
        "  f.close();\n",
        "  return a_list\n",
        "  \n",
        "# 파일닫기 생략을 위한 with구문 사용\n",
        "def opencsv(filename):\n",
        "  with open(filename,\"r\") as f:\n",
        "    reader = csv.reader(f)\n",
        "    output = []\n",
        "    for i in reader:\n",
        "      output.append(i)\n",
        "    return output\n",
        "\n",
        "# li = opencsv(\"example.csv\")\n",
        "li = opencsv(\"example2.csv\")\n",
        "print(li)"
      ]
    },
    {
      "cell_type": "markdown",
      "source": [
        "파이썬으로 CSV파일 쓰기"
      ],
      "metadata": {
        "id": "ZAKnBs-81LXW"
      }
    },
    {
      "cell_type": "code",
      "source": [
        "data = [['name', 'kor', 'eng', 'math'], ['a', '90', '80', '100'], ['b', '80', '90', '90'], ['c', '100', '80', '60']]\n",
        "\n",
        "def writecsv_basic(filename, the_list):\n",
        "  # 쓰기모드로 파일열기\n",
        "  f = open(\"test2.csv\",\"w\",newline=\"\")\n",
        "  # 콤마(,)를 구분자로 파일작성\n",
        "  csvobject = csv.writer(f,delimiter=\",\")\n",
        "  # data객체를 행별로 작성\n",
        "  csvobject.writerows(data)\n",
        "  # 파일닫기\n",
        "  f.close()\n",
        "\n",
        "# with구문 활용\n",
        "def writecsv(filename, the_list):\n",
        "  with open(filename, 'w', newline='') as f:\n",
        "    a = csv.writer(f, delimiter = ',')\n",
        "    a.writerows(the_list)"
      ],
      "metadata": {
        "id": "sj2BM6uR1Sgg"
      },
      "execution_count": 29,
      "outputs": []
    },
    {
      "cell_type": "markdown",
      "source": [
        "사용자 모듈 만들기"
      ],
      "metadata": {
        "id": "hKCBEZKI5y9t"
      }
    },
    {
      "cell_type": "code",
      "source": [
        "import usecsv\n",
        "a = [['kor','eng','math'],[99,88,77]]\n",
        "usecsv.writecsv('test.csv',a)"
      ],
      "metadata": {
        "id": "D7MAopxL2EJ2"
      },
      "execution_count": 30,
      "outputs": []
    },
    {
      "cell_type": "markdown",
      "source": [
        "CSV 파일 안의 문자를 숫자로 전환하기"
      ],
      "metadata": {
        "id": "1SlcupWI8nBj"
      }
    },
    {
      "cell_type": "code",
      "source": [
        "import usecsv, re\n",
        "\n",
        "# csv 파일 불러와서 형식 확인하기\n",
        "total = usecsv.opencsv('popSeoul.csv')\n",
        "# for i in total[:5]:\n",
        "#   print(i)\n",
        "\n",
        "# 숫자 원소만 골라서 쉼표 제거 후 형변환\n",
        "def switch1(listName):\n",
        "  k=[]\n",
        "  for j in listName:\n",
        "    if re.search('\\d',j):\n",
        "      k.append(float(re.sub(',','',j)))\n",
        "    else:\n",
        "      k.append(j)\n",
        "  return k\n",
        "\n",
        "i = total[2]\n",
        "print('i: ',i)\n",
        "print('i-switch1: ',switch1(i))\n",
        "\n",
        "# 숫자가 포함된 문자\n",
        "p = ['123kangnam', '151,767','11,093','27,394']\n",
        "print('p: ',p)\n",
        "# print('p-switch1: ',switch1(p))\n",
        "# ValueError: could not convert string to float: '123kangnam'\n",
        "def switch2(listName):\n",
        "  k=[]\n",
        "  for j in listName:\n",
        "    if re.search('[a-zA-Z가-힣]', j):\n",
        "      k.append(j)\n",
        "    else:\n",
        "      k.append(float(re.sub(',','',j)))\n",
        "  return k\n",
        "print('p-switch2: ', switch2(p))\n",
        "\n",
        "# 특수문자가 포함된 문자에서 오류 발생\n",
        "q = ['123!!', '151,767', '11,093', '27,394']\n",
        "print('q: ',q)\n",
        "# print('q-switch2: ',switch2(q))\n",
        "# ValueError: could not convert string to float: '123!!'\n",
        "def switch3(listName):\n",
        "  k=[]\n",
        "  for j in listName:\n",
        "    if re.search('[a-zA-Z가-힣!]', j):\n",
        "      k.append(j)\n",
        "    else:\n",
        "      k.append(float(re.sub(',','',j)))\n",
        "  return k\n",
        "print('q-switch3: ',switch3(q))\n",
        "\n",
        "# 빈 문자열의 경우 float() 함수에 넣을 시 오류 발생\n",
        "r = ['123!!', '151,767', '11,093', '27394', '']\n",
        "print('r: ',r)\n",
        "# print('r-switch3: ',switch3(r))\n",
        "# ValueError: could not convert string to float: \n",
        "def switch4(listName):\n",
        "  k=[]\n",
        "  for j in listName:\n",
        "    if re.search('[a-zA-Z가-힣!]', j):\n",
        "      listName[listName.index(j)] = j\n",
        "    else:\n",
        "      listName[listName.index(j)] = (float(re.sub(',','',j)))\n",
        "  return listName\n",
        "# print('r-switch4: ',switch4(r))\n",
        "# ValueError: could not convert string to float: \n",
        "\n",
        "# try except 구문으로 예외처리\n",
        "def switch5(listName):\n",
        "  for j in listName:\n",
        "    try:\n",
        "      listName[listName.index(j)] = float(re.sub(',','',j))\n",
        "    except:\n",
        "      pass\n",
        "  return listName\n",
        "print('r-switch5: ',switch5(r))\n",
        "\n",
        "s = ['123!!', '151,767', '11,093', '27394', '']\n",
        "print('s: ',s)\n",
        "print('s-switch5: ',switch5(s))"
      ],
      "metadata": {
        "colab": {
          "base_uri": "https://localhost:8080/"
        },
        "id": "J2Ec3YxG-tyK",
        "outputId": "041fecb8-c6dd-4047-8b5c-2d6fd366f392"
      },
      "execution_count": 62,
      "outputs": [
        {
          "output_type": "stream",
          "name": "stdout",
          "text": [
            "i:  ['Jongrogu', '151,767', '11,093', '27,394']\n",
            "i-switch1:  ['Jongrogu', 151767.0, 11093.0, 27394.0]\n",
            "p:  ['123kangnam', '151,767', '11,093', '27,394']\n",
            "p-switch2:  ['123kangnam', 151767.0, 11093.0, 27394.0]\n",
            "q:  ['123!!', '151,767', '11,093', '27,394']\n",
            "q-switch3:  ['123!!', 151767.0, 11093.0, 27394.0]\n",
            "r:  ['123!!', '151,767', '11,093', '27394', '']\n",
            "r-switch5:  ['123!!', 151767.0, 11093.0, 27394.0, '']\n",
            "s:  ['123!!', '151,767', '11,093', '27394', '']\n",
            "s-switch5:  ['123!!', 151767.0, 11093.0, 27394.0, '']\n"
          ]
        }
      ]
    }
  ]
}