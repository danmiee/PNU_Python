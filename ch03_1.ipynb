{
  "nbformat": 4,
  "nbformat_minor": 0,
  "metadata": {
    "colab": {
      "provenance": [],
      "authorship_tag": "ABX9TyOoA/TG7gF1s0mohSm50UqC",
      "include_colab_link": true
    },
    "kernelspec": {
      "name": "python3",
      "display_name": "Python 3"
    },
    "language_info": {
      "name": "python"
    }
  },
  "cells": [
    {
      "cell_type": "markdown",
      "metadata": {
        "id": "view-in-github",
        "colab_type": "text"
      },
      "source": [
        "<a href=\"https://colab.research.google.com/github/danmiee/Python_PNU/blob/main/ch03_1.ipynb\" target=\"_parent\"><img src=\"https://colab.research.google.com/assets/colab-badge.svg\" alt=\"Open In Colab\"/></a>"
      ]
    },
    {
      "cell_type": "markdown",
      "source": [
        "파일 입출력 연습"
      ],
      "metadata": {
        "id": "-ZHLe1M5w37k"
      }
    },
    {
      "cell_type": "code",
      "execution_count": null,
      "metadata": {
        "id": "rWa88djWwzO4"
      },
      "outputs": [],
      "source": [
        "# open('파일명','모드')\n",
        "f = open('test.txt','w')\n",
        "f.write(\"파일내에 저장\\n\")\n",
        "f.write(\"파일내에 저장2\\n\")\n",
        "f.close()"
      ]
    },
    {
      "cell_type": "code",
      "source": [
        "f = open(\"test.txt\",\"r\")\n",
        "res = f.read()\n",
        "print(res)\n",
        "f.close()"
      ],
      "metadata": {
        "id": "8M2vWmJM3ORI"
      },
      "execution_count": null,
      "outputs": []
    },
    {
      "cell_type": "code",
      "source": [
        "f = open('test.txt','a')\n",
        "f.write(\"파일내에 저장3\\n\")\n",
        "f.close()"
      ],
      "metadata": {
        "id": "prt4L3lj3rkn"
      },
      "execution_count": null,
      "outputs": []
    },
    {
      "cell_type": "code",
      "source": [
        "# with문 안에서 f라는 파일객체 활용 / with문에서 나가면 자동으로 닫음\n",
        "with open(\"test.txt\",\"w\") as f:\n",
        "  f.write(\"파일에 저장\")"
      ],
      "metadata": {
        "id": "ycH8MZTw3y5w"
      },
      "execution_count": null,
      "outputs": []
    },
    {
      "cell_type": "markdown",
      "source": [
        "메모장 프로그램 만들기"
      ],
      "metadata": {
        "id": "PqosjLxw4kHH"
      }
    },
    {
      "cell_type": "code",
      "source": [
        "while True :\n",
        "  print(\"1. 새로 만들기\")\n",
        "  print(\"2. 메모 보기\")\n",
        "  print(\"3. 메모 추가하기\")\n",
        "\n",
        "  menu = int(input(\"명령을 선택하세요 >> \"))\n",
        "\n",
        "  if menu == 1:\n",
        "    print(\"새 메모장 생성\")\n",
        "    with open(\"test.txt\",\"w\") as f:\n",
        "      memo = input(\"메모 입력: \")\n",
        "      f.write(f\"{memo}\\n\")\n",
        "  \n",
        "  elif menu == 2:\n",
        "    print(\"메모장 보기\")\n",
        "    with open(\"test.txt\",\"r\") as f:\n",
        "      print(f.read())\n",
        "  \n",
        "  elif menu == 3:\n",
        "    print(\"메모장에 내용 추가\")\n",
        "    with open(\"test.txt\",\"a\") as f:\n",
        "      memo = input(\"추가할 메모 입력: \")\n",
        "      f.write(f\"{memo}\\n\")\n",
        "  else:\n",
        "    print(\"종료\")\n",
        "    break"
      ],
      "metadata": {
        "id": "iePYBP674mzP"
      },
      "execution_count": null,
      "outputs": []
    }
  ]
}