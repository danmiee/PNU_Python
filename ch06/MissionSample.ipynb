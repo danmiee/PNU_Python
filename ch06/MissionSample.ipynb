{
  "nbformat": 4,
  "nbformat_minor": 0,
  "metadata": {
    "colab": {
      "provenance": [],
      "collapsed_sections": [
        "zGKxHl-DLC_K",
        "Iv7TbPnOtuLI",
        "nC4Ldyt1NF7y",
        "77dGfxE5tvW3"
      ],
      "toc_visible": true,
      "authorship_tag": "ABX9TyMV4gsqGNWSe06ueNQVMk4J",
      "include_colab_link": true
    },
    "kernelspec": {
      "name": "python3",
      "display_name": "Python 3"
    },
    "language_info": {
      "name": "python"
    }
  },
  "cells": [
    {
      "cell_type": "markdown",
      "metadata": {
        "id": "view-in-github",
        "colab_type": "text"
      },
      "source": [
        "<a href=\"https://colab.research.google.com/github/danmiee/Python_PNU/blob/main/ch06/MissionSample.ipynb\" target=\"_parent\"><img src=\"https://colab.research.google.com/assets/colab-badge.svg\" alt=\"Open In Colab\"/></a>"
      ]
    },
    {
      "cell_type": "markdown",
      "source": [
        "# colab 한글 폰트"
      ],
      "metadata": {
        "id": "zGKxHl-DLC_K"
      }
    },
    {
      "cell_type": "code",
      "source": [
        "#한글 폰트 설치 : colab , 런타임 다시 시작 하기\n",
        "\n",
        "import matplotlib.font_manager as fm\n",
        "\n",
        "!apt-get -qq -y install fonts-nanum > /dev/null\n",
        "fontpath = '/usr/share/fonts/truetype/nanum/NanumBarunGothic.ttf'\n",
        "font = fm.FontProperties(fname=fontpath, size=9)\n",
        "fm._rebuild()"
      ],
      "metadata": {
        "id": "TRh6nF9FCygW"
      },
      "execution_count": 42,
      "outputs": []
    },
    {
      "cell_type": "code",
      "source": [
        "# 한글 폰트 설정\n",
        "import matplotlib.pyplot as plt\n",
        "import matplotlib as mpl\n",
        "import matplotlib.font_manager as fm\n",
        "\n",
        "mpl.rcParams['axes.unicode_minus'] = False\n",
        "\n",
        "path = '/usr/share/fonts/truetype/nanum/NanumGothicBold.ttf'\n",
        "font_name = fm.FontProperties(fname=path, size=18).get_name()\n",
        "plt.rc('font', family=font_name)\n",
        "fm._rebuild()"
      ],
      "metadata": {
        "id": "xsPr02RkDZGa"
      },
      "execution_count": 1,
      "outputs": []
    },
    {
      "cell_type": "markdown",
      "source": [
        "# 자동차 표시연비 크롤링"
      ],
      "metadata": {
        "id": "FTdWJreitkTb"
      }
    },
    {
      "cell_type": "markdown",
      "source": [
        "## csv"
      ],
      "metadata": {
        "id": "bxWJcFkHtrYS"
      }
    },
    {
      "cell_type": "code",
      "execution_count": 81,
      "metadata": {
        "id": "mO2cwwzotJfU"
      },
      "outputs": [],
      "source": [
        "import usecsv\n",
        "import urllib.request as ur\n",
        "from bs4 import BeautifulSoup as bs\n",
        "\n",
        "url = \"https://bpms.kemco.or.kr:444/transport_2012/car/car_choice.aspx?serorigin=&serecode=&serfuel=&sergear=&sercartype=&sergrade=&sertypegb=&sertab=&otype=&ptype=500&f=system&sermileage1=&sermileage2=&serco21=&serco22=&seramt1=&seramt2=&sermname=&serstyear=#search_top\"\n",
        "\n",
        "soup = bs(ur.urlopen(url).read(), 'html.parser')\n",
        "\n",
        "# 한 행씩 모든 데이터 가져오기\n",
        "# tr_list = soup.find_all(\"tr\")  # 다른 것 포함됨\n",
        "tr_list = soup.select(\"#search_top > table > tbody > tr\")\n",
        "\n",
        "# type(soup)  #bs4.BeautifulSoup\n",
        "# type(tr_list)  #list\n",
        "# type(tr_list[0])  #bs4.element.Tag\n",
        "\n",
        "# td = tr_list[0].find_all('td')\n",
        "# print(td[0].text)\n",
        "# print(td[1].text)\n",
        "# print(td[2].text)\n",
        "# print(td[3].text)\n",
        "# print(td[4].text)\n",
        "# print(td[6].text)\n",
        "\n",
        "# 콤마 주의!!!!!\n",
        "car_info = [['업체명', '모델명', '표시연비', '배기량', 'co2배출량', '등급', '연간유류비']]\n",
        "\n",
        "for tr in tr_list:\n",
        "  td = tr.find_all('td')\n",
        "  img_list = td[5].find_all('img')\n",
        "  car_info.append([td[0].text.replace(' ',''), \n",
        "             td[1].text, \n",
        "             td[2].text, \n",
        "             # 그래프 그리기 위해 콤마 없애주기\n",
        "             td[3].text.replace(',',''), \n",
        "             td[4].text, \n",
        "             img_list[0].get('src')[-5],\n",
        "             # 그래프 그리기 위해 콤마 없애주기\n",
        "             td[6].text.replace(',','')])\n",
        "\n",
        "usecsv.writecsv('car_info.csv', car_info)\n"
      ]
    },
    {
      "cell_type": "markdown",
      "source": [
        "## 데이터 프레임"
      ],
      "metadata": {
        "id": "Iv7TbPnOtuLI"
      }
    },
    {
      "cell_type": "code",
      "source": [
        "import pandas as pd\n",
        "df = pd.read_csv('car_info.csv')\n",
        "df.head()"
      ],
      "metadata": {
        "id": "kwVl0i650yq9",
        "colab": {
          "base_uri": "https://localhost:8080/",
          "height": 206
        },
        "outputId": "4515b205-295a-48c2-b8eb-8c71f538d7fe"
      },
      "execution_count": 82,
      "outputs": [
        {
          "output_type": "execute_result",
          "data": {
            "text/plain": [
              "            업체명                       모델명  표시연비   배기량  co2배출량  등급    연간유류비\n",
              "0  스텔란티스코리아주식회사  Peugeot 2008 1.5 BlueHDi  17.1  1499     109   1  1043553\n",
              "1     한국토요타자동차㈜          토요타 Camry Hybrid  17.1  2487      91   1  1211746\n",
              "2  르노코리아자동차주식회사            XM3 하이브리드 17인치  17.4  1598      91   1  1190853\n",
              "3  르노코리아자동차주식회사            XM3 하이브리드 18인치  17.0  1598      93   1  1218874\n",
              "4     한국토요타자동차㈜                렉서스 ES300h  16.8  2487      94   1  1233384"
            ],
            "text/html": [
              "\n",
              "  <div id=\"df-6516b555-8838-4488-be18-c1506951943a\">\n",
              "    <div class=\"colab-df-container\">\n",
              "      <div>\n",
              "<style scoped>\n",
              "    .dataframe tbody tr th:only-of-type {\n",
              "        vertical-align: middle;\n",
              "    }\n",
              "\n",
              "    .dataframe tbody tr th {\n",
              "        vertical-align: top;\n",
              "    }\n",
              "\n",
              "    .dataframe thead th {\n",
              "        text-align: right;\n",
              "    }\n",
              "</style>\n",
              "<table border=\"1\" class=\"dataframe\">\n",
              "  <thead>\n",
              "    <tr style=\"text-align: right;\">\n",
              "      <th></th>\n",
              "      <th>업체명</th>\n",
              "      <th>모델명</th>\n",
              "      <th>표시연비</th>\n",
              "      <th>배기량</th>\n",
              "      <th>co2배출량</th>\n",
              "      <th>등급</th>\n",
              "      <th>연간유류비</th>\n",
              "    </tr>\n",
              "  </thead>\n",
              "  <tbody>\n",
              "    <tr>\n",
              "      <th>0</th>\n",
              "      <td>스텔란티스코리아주식회사</td>\n",
              "      <td>Peugeot 2008 1.5 BlueHDi</td>\n",
              "      <td>17.1</td>\n",
              "      <td>1499</td>\n",
              "      <td>109</td>\n",
              "      <td>1</td>\n",
              "      <td>1043553</td>\n",
              "    </tr>\n",
              "    <tr>\n",
              "      <th>1</th>\n",
              "      <td>한국토요타자동차㈜</td>\n",
              "      <td>토요타 Camry Hybrid</td>\n",
              "      <td>17.1</td>\n",
              "      <td>2487</td>\n",
              "      <td>91</td>\n",
              "      <td>1</td>\n",
              "      <td>1211746</td>\n",
              "    </tr>\n",
              "    <tr>\n",
              "      <th>2</th>\n",
              "      <td>르노코리아자동차주식회사</td>\n",
              "      <td>XM3 하이브리드 17인치</td>\n",
              "      <td>17.4</td>\n",
              "      <td>1598</td>\n",
              "      <td>91</td>\n",
              "      <td>1</td>\n",
              "      <td>1190853</td>\n",
              "    </tr>\n",
              "    <tr>\n",
              "      <th>3</th>\n",
              "      <td>르노코리아자동차주식회사</td>\n",
              "      <td>XM3 하이브리드 18인치</td>\n",
              "      <td>17.0</td>\n",
              "      <td>1598</td>\n",
              "      <td>93</td>\n",
              "      <td>1</td>\n",
              "      <td>1218874</td>\n",
              "    </tr>\n",
              "    <tr>\n",
              "      <th>4</th>\n",
              "      <td>한국토요타자동차㈜</td>\n",
              "      <td>렉서스 ES300h</td>\n",
              "      <td>16.8</td>\n",
              "      <td>2487</td>\n",
              "      <td>94</td>\n",
              "      <td>1</td>\n",
              "      <td>1233384</td>\n",
              "    </tr>\n",
              "  </tbody>\n",
              "</table>\n",
              "</div>\n",
              "      <button class=\"colab-df-convert\" onclick=\"convertToInteractive('df-6516b555-8838-4488-be18-c1506951943a')\"\n",
              "              title=\"Convert this dataframe to an interactive table.\"\n",
              "              style=\"display:none;\">\n",
              "        \n",
              "  <svg xmlns=\"http://www.w3.org/2000/svg\" height=\"24px\"viewBox=\"0 0 24 24\"\n",
              "       width=\"24px\">\n",
              "    <path d=\"M0 0h24v24H0V0z\" fill=\"none\"/>\n",
              "    <path d=\"M18.56 5.44l.94 2.06.94-2.06 2.06-.94-2.06-.94-.94-2.06-.94 2.06-2.06.94zm-11 1L8.5 8.5l.94-2.06 2.06-.94-2.06-.94L8.5 2.5l-.94 2.06-2.06.94zm10 10l.94 2.06.94-2.06 2.06-.94-2.06-.94-.94-2.06-.94 2.06-2.06.94z\"/><path d=\"M17.41 7.96l-1.37-1.37c-.4-.4-.92-.59-1.43-.59-.52 0-1.04.2-1.43.59L10.3 9.45l-7.72 7.72c-.78.78-.78 2.05 0 2.83L4 21.41c.39.39.9.59 1.41.59.51 0 1.02-.2 1.41-.59l7.78-7.78 2.81-2.81c.8-.78.8-2.07 0-2.86zM5.41 20L4 18.59l7.72-7.72 1.47 1.35L5.41 20z\"/>\n",
              "  </svg>\n",
              "      </button>\n",
              "      \n",
              "  <style>\n",
              "    .colab-df-container {\n",
              "      display:flex;\n",
              "      flex-wrap:wrap;\n",
              "      gap: 12px;\n",
              "    }\n",
              "\n",
              "    .colab-df-convert {\n",
              "      background-color: #E8F0FE;\n",
              "      border: none;\n",
              "      border-radius: 50%;\n",
              "      cursor: pointer;\n",
              "      display: none;\n",
              "      fill: #1967D2;\n",
              "      height: 32px;\n",
              "      padding: 0 0 0 0;\n",
              "      width: 32px;\n",
              "    }\n",
              "\n",
              "    .colab-df-convert:hover {\n",
              "      background-color: #E2EBFA;\n",
              "      box-shadow: 0px 1px 2px rgba(60, 64, 67, 0.3), 0px 1px 3px 1px rgba(60, 64, 67, 0.15);\n",
              "      fill: #174EA6;\n",
              "    }\n",
              "\n",
              "    [theme=dark] .colab-df-convert {\n",
              "      background-color: #3B4455;\n",
              "      fill: #D2E3FC;\n",
              "    }\n",
              "\n",
              "    [theme=dark] .colab-df-convert:hover {\n",
              "      background-color: #434B5C;\n",
              "      box-shadow: 0px 1px 3px 1px rgba(0, 0, 0, 0.15);\n",
              "      filter: drop-shadow(0px 1px 2px rgba(0, 0, 0, 0.3));\n",
              "      fill: #FFFFFF;\n",
              "    }\n",
              "  </style>\n",
              "\n",
              "      <script>\n",
              "        const buttonEl =\n",
              "          document.querySelector('#df-6516b555-8838-4488-be18-c1506951943a button.colab-df-convert');\n",
              "        buttonEl.style.display =\n",
              "          google.colab.kernel.accessAllowed ? 'block' : 'none';\n",
              "\n",
              "        async function convertToInteractive(key) {\n",
              "          const element = document.querySelector('#df-6516b555-8838-4488-be18-c1506951943a');\n",
              "          const dataTable =\n",
              "            await google.colab.kernel.invokeFunction('convertToInteractive',\n",
              "                                                     [key], {});\n",
              "          if (!dataTable) return;\n",
              "\n",
              "          const docLinkHtml = 'Like what you see? Visit the ' +\n",
              "            '<a target=\"_blank\" href=https://colab.research.google.com/notebooks/data_table.ipynb>data table notebook</a>'\n",
              "            + ' to learn more about interactive tables.';\n",
              "          element.innerHTML = '';\n",
              "          dataTable['output_type'] = 'display_data';\n",
              "          await google.colab.output.renderOutput(dataTable, element);\n",
              "          const docLink = document.createElement('div');\n",
              "          docLink.innerHTML = docLinkHtml;\n",
              "          element.appendChild(docLink);\n",
              "        }\n",
              "      </script>\n",
              "    </div>\n",
              "  </div>\n",
              "  "
            ]
          },
          "metadata": {},
          "execution_count": 82
        }
      ]
    },
    {
      "cell_type": "markdown",
      "source": [
        "### 원하는 데이터로 column 추가\n",
        "\n",
        "  - 국산차 / 수입차 분류"
      ],
      "metadata": {
        "id": "nC4Ldyt1NF7y"
      }
    },
    {
      "cell_type": "code",
      "source": [
        "# 원하는 column의 요소를 중복값없이 가져오기\n",
        "df['업체명'].unique()"
      ],
      "metadata": {
        "colab": {
          "base_uri": "https://localhost:8080/"
        },
        "id": "IA8lwDUrNLTC",
        "outputId": "1dfdcb42-aa11-4064-fca0-152eef911ef4"
      },
      "execution_count": 85,
      "outputs": [
        {
          "output_type": "execute_result",
          "data": {
            "text/plain": [
              "array(['스텔란티스코리아주식회사', '한국토요타자동차㈜', '르노코리아자동차주식회사', '폭스바겐그룹코리아주식회사',\n",
              "       '현대자동차㈜', '기아주식회사', '쌍용자동차주식회사', '혼다코리아(주)', '메르세데스-벤츠코리아(주)',\n",
              "       '한국지엠주식회사', 'BMW코리아㈜', '크라이슬러복사본', '엠엠에스케이(주)'], dtype=object)"
            ]
          },
          "metadata": {},
          "execution_count": 85
        }
      ]
    },
    {
      "cell_type": "code",
      "source": [
        "df['구분'] = ['국산' if item in ['르노코리아자동차주식회사', '현대자동차㈜', '기아주식회사', '쌍용자동차주식회사'] else '수입' for item in list(df['업체명'])]\n",
        "df.head()"
      ],
      "metadata": {
        "colab": {
          "base_uri": "https://localhost:8080/",
          "height": 206
        },
        "id": "dW1B4jGwN50w",
        "outputId": "d80c0ab8-468f-4bca-a8ec-41dab5fe203f"
      },
      "execution_count": 86,
      "outputs": [
        {
          "output_type": "execute_result",
          "data": {
            "text/plain": [
              "            업체명                       모델명  표시연비   배기량  co2배출량  등급    연간유류비  구분\n",
              "0  스텔란티스코리아주식회사  Peugeot 2008 1.5 BlueHDi  17.1  1499     109   1  1043553  수입\n",
              "1     한국토요타자동차㈜          토요타 Camry Hybrid  17.1  2487      91   1  1211746  수입\n",
              "2  르노코리아자동차주식회사            XM3 하이브리드 17인치  17.4  1598      91   1  1190853  국산\n",
              "3  르노코리아자동차주식회사            XM3 하이브리드 18인치  17.0  1598      93   1  1218874  국산\n",
              "4     한국토요타자동차㈜                렉서스 ES300h  16.8  2487      94   1  1233384  수입"
            ],
            "text/html": [
              "\n",
              "  <div id=\"df-d0a963fd-3487-4a20-a7b3-7ebde202c263\">\n",
              "    <div class=\"colab-df-container\">\n",
              "      <div>\n",
              "<style scoped>\n",
              "    .dataframe tbody tr th:only-of-type {\n",
              "        vertical-align: middle;\n",
              "    }\n",
              "\n",
              "    .dataframe tbody tr th {\n",
              "        vertical-align: top;\n",
              "    }\n",
              "\n",
              "    .dataframe thead th {\n",
              "        text-align: right;\n",
              "    }\n",
              "</style>\n",
              "<table border=\"1\" class=\"dataframe\">\n",
              "  <thead>\n",
              "    <tr style=\"text-align: right;\">\n",
              "      <th></th>\n",
              "      <th>업체명</th>\n",
              "      <th>모델명</th>\n",
              "      <th>표시연비</th>\n",
              "      <th>배기량</th>\n",
              "      <th>co2배출량</th>\n",
              "      <th>등급</th>\n",
              "      <th>연간유류비</th>\n",
              "      <th>구분</th>\n",
              "    </tr>\n",
              "  </thead>\n",
              "  <tbody>\n",
              "    <tr>\n",
              "      <th>0</th>\n",
              "      <td>스텔란티스코리아주식회사</td>\n",
              "      <td>Peugeot 2008 1.5 BlueHDi</td>\n",
              "      <td>17.1</td>\n",
              "      <td>1499</td>\n",
              "      <td>109</td>\n",
              "      <td>1</td>\n",
              "      <td>1043553</td>\n",
              "      <td>수입</td>\n",
              "    </tr>\n",
              "    <tr>\n",
              "      <th>1</th>\n",
              "      <td>한국토요타자동차㈜</td>\n",
              "      <td>토요타 Camry Hybrid</td>\n",
              "      <td>17.1</td>\n",
              "      <td>2487</td>\n",
              "      <td>91</td>\n",
              "      <td>1</td>\n",
              "      <td>1211746</td>\n",
              "      <td>수입</td>\n",
              "    </tr>\n",
              "    <tr>\n",
              "      <th>2</th>\n",
              "      <td>르노코리아자동차주식회사</td>\n",
              "      <td>XM3 하이브리드 17인치</td>\n",
              "      <td>17.4</td>\n",
              "      <td>1598</td>\n",
              "      <td>91</td>\n",
              "      <td>1</td>\n",
              "      <td>1190853</td>\n",
              "      <td>국산</td>\n",
              "    </tr>\n",
              "    <tr>\n",
              "      <th>3</th>\n",
              "      <td>르노코리아자동차주식회사</td>\n",
              "      <td>XM3 하이브리드 18인치</td>\n",
              "      <td>17.0</td>\n",
              "      <td>1598</td>\n",
              "      <td>93</td>\n",
              "      <td>1</td>\n",
              "      <td>1218874</td>\n",
              "      <td>국산</td>\n",
              "    </tr>\n",
              "    <tr>\n",
              "      <th>4</th>\n",
              "      <td>한국토요타자동차㈜</td>\n",
              "      <td>렉서스 ES300h</td>\n",
              "      <td>16.8</td>\n",
              "      <td>2487</td>\n",
              "      <td>94</td>\n",
              "      <td>1</td>\n",
              "      <td>1233384</td>\n",
              "      <td>수입</td>\n",
              "    </tr>\n",
              "  </tbody>\n",
              "</table>\n",
              "</div>\n",
              "      <button class=\"colab-df-convert\" onclick=\"convertToInteractive('df-d0a963fd-3487-4a20-a7b3-7ebde202c263')\"\n",
              "              title=\"Convert this dataframe to an interactive table.\"\n",
              "              style=\"display:none;\">\n",
              "        \n",
              "  <svg xmlns=\"http://www.w3.org/2000/svg\" height=\"24px\"viewBox=\"0 0 24 24\"\n",
              "       width=\"24px\">\n",
              "    <path d=\"M0 0h24v24H0V0z\" fill=\"none\"/>\n",
              "    <path d=\"M18.56 5.44l.94 2.06.94-2.06 2.06-.94-2.06-.94-.94-2.06-.94 2.06-2.06.94zm-11 1L8.5 8.5l.94-2.06 2.06-.94-2.06-.94L8.5 2.5l-.94 2.06-2.06.94zm10 10l.94 2.06.94-2.06 2.06-.94-2.06-.94-.94-2.06-.94 2.06-2.06.94z\"/><path d=\"M17.41 7.96l-1.37-1.37c-.4-.4-.92-.59-1.43-.59-.52 0-1.04.2-1.43.59L10.3 9.45l-7.72 7.72c-.78.78-.78 2.05 0 2.83L4 21.41c.39.39.9.59 1.41.59.51 0 1.02-.2 1.41-.59l7.78-7.78 2.81-2.81c.8-.78.8-2.07 0-2.86zM5.41 20L4 18.59l7.72-7.72 1.47 1.35L5.41 20z\"/>\n",
              "  </svg>\n",
              "      </button>\n",
              "      \n",
              "  <style>\n",
              "    .colab-df-container {\n",
              "      display:flex;\n",
              "      flex-wrap:wrap;\n",
              "      gap: 12px;\n",
              "    }\n",
              "\n",
              "    .colab-df-convert {\n",
              "      background-color: #E8F0FE;\n",
              "      border: none;\n",
              "      border-radius: 50%;\n",
              "      cursor: pointer;\n",
              "      display: none;\n",
              "      fill: #1967D2;\n",
              "      height: 32px;\n",
              "      padding: 0 0 0 0;\n",
              "      width: 32px;\n",
              "    }\n",
              "\n",
              "    .colab-df-convert:hover {\n",
              "      background-color: #E2EBFA;\n",
              "      box-shadow: 0px 1px 2px rgba(60, 64, 67, 0.3), 0px 1px 3px 1px rgba(60, 64, 67, 0.15);\n",
              "      fill: #174EA6;\n",
              "    }\n",
              "\n",
              "    [theme=dark] .colab-df-convert {\n",
              "      background-color: #3B4455;\n",
              "      fill: #D2E3FC;\n",
              "    }\n",
              "\n",
              "    [theme=dark] .colab-df-convert:hover {\n",
              "      background-color: #434B5C;\n",
              "      box-shadow: 0px 1px 3px 1px rgba(0, 0, 0, 0.15);\n",
              "      filter: drop-shadow(0px 1px 2px rgba(0, 0, 0, 0.3));\n",
              "      fill: #FFFFFF;\n",
              "    }\n",
              "  </style>\n",
              "\n",
              "      <script>\n",
              "        const buttonEl =\n",
              "          document.querySelector('#df-d0a963fd-3487-4a20-a7b3-7ebde202c263 button.colab-df-convert');\n",
              "        buttonEl.style.display =\n",
              "          google.colab.kernel.accessAllowed ? 'block' : 'none';\n",
              "\n",
              "        async function convertToInteractive(key) {\n",
              "          const element = document.querySelector('#df-d0a963fd-3487-4a20-a7b3-7ebde202c263');\n",
              "          const dataTable =\n",
              "            await google.colab.kernel.invokeFunction('convertToInteractive',\n",
              "                                                     [key], {});\n",
              "          if (!dataTable) return;\n",
              "\n",
              "          const docLinkHtml = 'Like what you see? Visit the ' +\n",
              "            '<a target=\"_blank\" href=https://colab.research.google.com/notebooks/data_table.ipynb>data table notebook</a>'\n",
              "            + ' to learn more about interactive tables.';\n",
              "          element.innerHTML = '';\n",
              "          dataTable['output_type'] = 'display_data';\n",
              "          await google.colab.output.renderOutput(dataTable, element);\n",
              "          const docLink = document.createElement('div');\n",
              "          docLink.innerHTML = docLinkHtml;\n",
              "          element.appendChild(docLink);\n",
              "        }\n",
              "      </script>\n",
              "    </div>\n",
              "  </div>\n",
              "  "
            ]
          },
          "metadata": {},
          "execution_count": 86
        }
      ]
    },
    {
      "cell_type": "markdown",
      "source": [
        "## 그래프 전처리\n",
        "\n",
        "  - 그래프로 그리기 위해서는 수치값이 필요함(문자X)"
      ],
      "metadata": {
        "id": "77dGfxE5tvW3"
      }
    },
    {
      "cell_type": "code",
      "source": [
        "df.info()"
      ],
      "metadata": {
        "colab": {
          "base_uri": "https://localhost:8080/"
        },
        "id": "s0jifsVN69HT",
        "outputId": "1cc869c0-0477-4b39-a341-83fd415d488b"
      },
      "execution_count": 87,
      "outputs": [
        {
          "output_type": "stream",
          "name": "stdout",
          "text": [
            "<class 'pandas.core.frame.DataFrame'>\n",
            "RangeIndex: 500 entries, 0 to 499\n",
            "Data columns (total 8 columns):\n",
            " #   Column  Non-Null Count  Dtype  \n",
            "---  ------  --------------  -----  \n",
            " 0   업체명     500 non-null    object \n",
            " 1   모델명     500 non-null    object \n",
            " 2   표시연비    500 non-null    float64\n",
            " 3   배기량     500 non-null    int64  \n",
            " 4   co2배출량  500 non-null    int64  \n",
            " 5   등급      500 non-null    int64  \n",
            " 6   연간유류비   500 non-null    int64  \n",
            " 7   구분      500 non-null    object \n",
            "dtypes: float64(1), int64(4), object(3)\n",
            "memory usage: 31.4+ KB\n"
          ]
        }
      ]
    },
    {
      "cell_type": "code",
      "source": [
        "# td[3].text  #'1,968' : 콤마 때문에 문자로 인식됨\n",
        "# 콤마 없애는 법\n",
        "td[3].text.replace(',','')"
      ],
      "metadata": {
        "colab": {
          "base_uri": "https://localhost:8080/",
          "height": 35
        },
        "id": "PT_4ZH4c7U2q",
        "outputId": "204c991c-39a1-4d82-a3bd-80b09af3c29e"
      },
      "execution_count": 88,
      "outputs": [
        {
          "output_type": "execute_result",
          "data": {
            "text/plain": [
              "'2151'"
            ],
            "application/vnd.google.colaboratory.intrinsic+json": {
              "type": "string"
            }
          },
          "metadata": {},
          "execution_count": 88
        }
      ]
    },
    {
      "cell_type": "code",
      "source": [
        "df[df['co2배출량']>=110]"
      ],
      "metadata": {
        "colab": {
          "base_uri": "https://localhost:8080/",
          "height": 424
        },
        "id": "iqjTsKyc8XDk",
        "outputId": "8f32847c-7a79-4fa3-b807-30c856c189dc"
      },
      "execution_count": 89,
      "outputs": [
        {
          "output_type": "execute_result",
          "data": {
            "text/plain": [
              "               업체명                             모델명  표시연비   배기량  co2배출량  등급  \\\n",
              "5     스텔란티스코리아주식회사        Peugeot 5008 1.5 BlueHDi  16.1  1499     116   1   \n",
              "6     스텔란티스코리아주식회사       DS4 Crossback 1.5 BlueHDi  16.5  1499     113   1   \n",
              "7    폭스바겐그룹코리아주식회사                           T-Roc  16.4  1968     114   1   \n",
              "8     스텔란티스코리아주식회사       DS4 Crossback 1.5 BlueHDi  16.2  1499     115   1   \n",
              "9    폭스바겐그룹코리아주식회사                       Q2 35 TDI  16.7  1968     111   1   \n",
              "..             ...                             ...   ...   ...     ...  ..   \n",
              "495         현대자동차㈜  GV70 2.2디젤 2WD 18인치 (빌트인캠)(22)  13.5  2151     141   3   \n",
              "496         기아주식회사  스포티지 2.0디젤 4WD 8AT 19인치 (빌트인캠)  12.4  1998     155   3   \n",
              "497         기아주식회사    쏘렌토 2.2디젤 2WD 6인 20인치타이어(22)  14.0  2151     135   3   \n",
              "498         현대자동차㈜         GV70 2.2디젤 2WD 18인치(22)  13.6  2151     140   3   \n",
              "499         기아주식회사    쏘렌토 2.2디젤 4WD 5인 20인치타이어(22)  12.8  2151     150   3   \n",
              "\n",
              "       연간유류비  구분  \n",
              "5    1108370  수입  \n",
              "6    1081500  수입  \n",
              "7    1088095  수입  \n",
              "8    1101528  수입  \n",
              "9    1068548  수입  \n",
              "..       ...  ..  \n",
              "495  1321833  국산  \n",
              "496  1439093  국산  \n",
              "497  1274625  국산  \n",
              "498  1312114  국산  \n",
              "499  1394121  국산  \n",
              "\n",
              "[377 rows x 8 columns]"
            ],
            "text/html": [
              "\n",
              "  <div id=\"df-4024eb80-1841-4856-80c9-8cfc2450cd6e\">\n",
              "    <div class=\"colab-df-container\">\n",
              "      <div>\n",
              "<style scoped>\n",
              "    .dataframe tbody tr th:only-of-type {\n",
              "        vertical-align: middle;\n",
              "    }\n",
              "\n",
              "    .dataframe tbody tr th {\n",
              "        vertical-align: top;\n",
              "    }\n",
              "\n",
              "    .dataframe thead th {\n",
              "        text-align: right;\n",
              "    }\n",
              "</style>\n",
              "<table border=\"1\" class=\"dataframe\">\n",
              "  <thead>\n",
              "    <tr style=\"text-align: right;\">\n",
              "      <th></th>\n",
              "      <th>업체명</th>\n",
              "      <th>모델명</th>\n",
              "      <th>표시연비</th>\n",
              "      <th>배기량</th>\n",
              "      <th>co2배출량</th>\n",
              "      <th>등급</th>\n",
              "      <th>연간유류비</th>\n",
              "      <th>구분</th>\n",
              "    </tr>\n",
              "  </thead>\n",
              "  <tbody>\n",
              "    <tr>\n",
              "      <th>5</th>\n",
              "      <td>스텔란티스코리아주식회사</td>\n",
              "      <td>Peugeot 5008 1.5 BlueHDi</td>\n",
              "      <td>16.1</td>\n",
              "      <td>1499</td>\n",
              "      <td>116</td>\n",
              "      <td>1</td>\n",
              "      <td>1108370</td>\n",
              "      <td>수입</td>\n",
              "    </tr>\n",
              "    <tr>\n",
              "      <th>6</th>\n",
              "      <td>스텔란티스코리아주식회사</td>\n",
              "      <td>DS4 Crossback 1.5 BlueHDi</td>\n",
              "      <td>16.5</td>\n",
              "      <td>1499</td>\n",
              "      <td>113</td>\n",
              "      <td>1</td>\n",
              "      <td>1081500</td>\n",
              "      <td>수입</td>\n",
              "    </tr>\n",
              "    <tr>\n",
              "      <th>7</th>\n",
              "      <td>폭스바겐그룹코리아주식회사</td>\n",
              "      <td>T-Roc</td>\n",
              "      <td>16.4</td>\n",
              "      <td>1968</td>\n",
              "      <td>114</td>\n",
              "      <td>1</td>\n",
              "      <td>1088095</td>\n",
              "      <td>수입</td>\n",
              "    </tr>\n",
              "    <tr>\n",
              "      <th>8</th>\n",
              "      <td>스텔란티스코리아주식회사</td>\n",
              "      <td>DS4 Crossback 1.5 BlueHDi</td>\n",
              "      <td>16.2</td>\n",
              "      <td>1499</td>\n",
              "      <td>115</td>\n",
              "      <td>1</td>\n",
              "      <td>1101528</td>\n",
              "      <td>수입</td>\n",
              "    </tr>\n",
              "    <tr>\n",
              "      <th>9</th>\n",
              "      <td>폭스바겐그룹코리아주식회사</td>\n",
              "      <td>Q2 35 TDI</td>\n",
              "      <td>16.7</td>\n",
              "      <td>1968</td>\n",
              "      <td>111</td>\n",
              "      <td>1</td>\n",
              "      <td>1068548</td>\n",
              "      <td>수입</td>\n",
              "    </tr>\n",
              "    <tr>\n",
              "      <th>...</th>\n",
              "      <td>...</td>\n",
              "      <td>...</td>\n",
              "      <td>...</td>\n",
              "      <td>...</td>\n",
              "      <td>...</td>\n",
              "      <td>...</td>\n",
              "      <td>...</td>\n",
              "      <td>...</td>\n",
              "    </tr>\n",
              "    <tr>\n",
              "      <th>495</th>\n",
              "      <td>현대자동차㈜</td>\n",
              "      <td>GV70 2.2디젤 2WD 18인치 (빌트인캠)(22)</td>\n",
              "      <td>13.5</td>\n",
              "      <td>2151</td>\n",
              "      <td>141</td>\n",
              "      <td>3</td>\n",
              "      <td>1321833</td>\n",
              "      <td>국산</td>\n",
              "    </tr>\n",
              "    <tr>\n",
              "      <th>496</th>\n",
              "      <td>기아주식회사</td>\n",
              "      <td>스포티지 2.0디젤 4WD 8AT 19인치 (빌트인캠)</td>\n",
              "      <td>12.4</td>\n",
              "      <td>1998</td>\n",
              "      <td>155</td>\n",
              "      <td>3</td>\n",
              "      <td>1439093</td>\n",
              "      <td>국산</td>\n",
              "    </tr>\n",
              "    <tr>\n",
              "      <th>497</th>\n",
              "      <td>기아주식회사</td>\n",
              "      <td>쏘렌토 2.2디젤 2WD 6인 20인치타이어(22)</td>\n",
              "      <td>14.0</td>\n",
              "      <td>2151</td>\n",
              "      <td>135</td>\n",
              "      <td>3</td>\n",
              "      <td>1274625</td>\n",
              "      <td>국산</td>\n",
              "    </tr>\n",
              "    <tr>\n",
              "      <th>498</th>\n",
              "      <td>현대자동차㈜</td>\n",
              "      <td>GV70 2.2디젤 2WD 18인치(22)</td>\n",
              "      <td>13.6</td>\n",
              "      <td>2151</td>\n",
              "      <td>140</td>\n",
              "      <td>3</td>\n",
              "      <td>1312114</td>\n",
              "      <td>국산</td>\n",
              "    </tr>\n",
              "    <tr>\n",
              "      <th>499</th>\n",
              "      <td>기아주식회사</td>\n",
              "      <td>쏘렌토 2.2디젤 4WD 5인 20인치타이어(22)</td>\n",
              "      <td>12.8</td>\n",
              "      <td>2151</td>\n",
              "      <td>150</td>\n",
              "      <td>3</td>\n",
              "      <td>1394121</td>\n",
              "      <td>국산</td>\n",
              "    </tr>\n",
              "  </tbody>\n",
              "</table>\n",
              "<p>377 rows × 8 columns</p>\n",
              "</div>\n",
              "      <button class=\"colab-df-convert\" onclick=\"convertToInteractive('df-4024eb80-1841-4856-80c9-8cfc2450cd6e')\"\n",
              "              title=\"Convert this dataframe to an interactive table.\"\n",
              "              style=\"display:none;\">\n",
              "        \n",
              "  <svg xmlns=\"http://www.w3.org/2000/svg\" height=\"24px\"viewBox=\"0 0 24 24\"\n",
              "       width=\"24px\">\n",
              "    <path d=\"M0 0h24v24H0V0z\" fill=\"none\"/>\n",
              "    <path d=\"M18.56 5.44l.94 2.06.94-2.06 2.06-.94-2.06-.94-.94-2.06-.94 2.06-2.06.94zm-11 1L8.5 8.5l.94-2.06 2.06-.94-2.06-.94L8.5 2.5l-.94 2.06-2.06.94zm10 10l.94 2.06.94-2.06 2.06-.94-2.06-.94-.94-2.06-.94 2.06-2.06.94z\"/><path d=\"M17.41 7.96l-1.37-1.37c-.4-.4-.92-.59-1.43-.59-.52 0-1.04.2-1.43.59L10.3 9.45l-7.72 7.72c-.78.78-.78 2.05 0 2.83L4 21.41c.39.39.9.59 1.41.59.51 0 1.02-.2 1.41-.59l7.78-7.78 2.81-2.81c.8-.78.8-2.07 0-2.86zM5.41 20L4 18.59l7.72-7.72 1.47 1.35L5.41 20z\"/>\n",
              "  </svg>\n",
              "      </button>\n",
              "      \n",
              "  <style>\n",
              "    .colab-df-container {\n",
              "      display:flex;\n",
              "      flex-wrap:wrap;\n",
              "      gap: 12px;\n",
              "    }\n",
              "\n",
              "    .colab-df-convert {\n",
              "      background-color: #E8F0FE;\n",
              "      border: none;\n",
              "      border-radius: 50%;\n",
              "      cursor: pointer;\n",
              "      display: none;\n",
              "      fill: #1967D2;\n",
              "      height: 32px;\n",
              "      padding: 0 0 0 0;\n",
              "      width: 32px;\n",
              "    }\n",
              "\n",
              "    .colab-df-convert:hover {\n",
              "      background-color: #E2EBFA;\n",
              "      box-shadow: 0px 1px 2px rgba(60, 64, 67, 0.3), 0px 1px 3px 1px rgba(60, 64, 67, 0.15);\n",
              "      fill: #174EA6;\n",
              "    }\n",
              "\n",
              "    [theme=dark] .colab-df-convert {\n",
              "      background-color: #3B4455;\n",
              "      fill: #D2E3FC;\n",
              "    }\n",
              "\n",
              "    [theme=dark] .colab-df-convert:hover {\n",
              "      background-color: #434B5C;\n",
              "      box-shadow: 0px 1px 3px 1px rgba(0, 0, 0, 0.15);\n",
              "      filter: drop-shadow(0px 1px 2px rgba(0, 0, 0, 0.3));\n",
              "      fill: #FFFFFF;\n",
              "    }\n",
              "  </style>\n",
              "\n",
              "      <script>\n",
              "        const buttonEl =\n",
              "          document.querySelector('#df-4024eb80-1841-4856-80c9-8cfc2450cd6e button.colab-df-convert');\n",
              "        buttonEl.style.display =\n",
              "          google.colab.kernel.accessAllowed ? 'block' : 'none';\n",
              "\n",
              "        async function convertToInteractive(key) {\n",
              "          const element = document.querySelector('#df-4024eb80-1841-4856-80c9-8cfc2450cd6e');\n",
              "          const dataTable =\n",
              "            await google.colab.kernel.invokeFunction('convertToInteractive',\n",
              "                                                     [key], {});\n",
              "          if (!dataTable) return;\n",
              "\n",
              "          const docLinkHtml = 'Like what you see? Visit the ' +\n",
              "            '<a target=\"_blank\" href=https://colab.research.google.com/notebooks/data_table.ipynb>data table notebook</a>'\n",
              "            + ' to learn more about interactive tables.';\n",
              "          element.innerHTML = '';\n",
              "          dataTable['output_type'] = 'display_data';\n",
              "          await google.colab.output.renderOutput(dataTable, element);\n",
              "          const docLink = document.createElement('div');\n",
              "          docLink.innerHTML = docLinkHtml;\n",
              "          element.appendChild(docLink);\n",
              "        }\n",
              "      </script>\n",
              "    </div>\n",
              "  </div>\n",
              "  "
            ]
          },
          "metadata": {},
          "execution_count": 89
        }
      ]
    },
    {
      "cell_type": "code",
      "source": [
        "df[(df['co2배출량']>=110) & (df['표시연비']>16.3)]"
      ],
      "metadata": {
        "colab": {
          "base_uri": "https://localhost:8080/",
          "height": 363
        },
        "id": "AQ2Nf5ef8kAl",
        "outputId": "9e107bd5-9084-4af2-80f4-42e31d2b42da"
      },
      "execution_count": 90,
      "outputs": [
        {
          "output_type": "execute_result",
          "data": {
            "text/plain": [
              "              업체명                                 모델명  표시연비   배기량  co2배출량  등급  \\\n",
              "6    스텔란티스코리아주식회사           DS4 Crossback 1.5 BlueHDi  16.5  1499     113   1   \n",
              "7   폭스바겐그룹코리아주식회사                               T-Roc  16.4  1968     114   1   \n",
              "9   폭스바겐그룹코리아주식회사                           Q2 35 TDI  16.7  1968     111   1   \n",
              "32  폭스바겐그룹코리아주식회사                           A4 35 TDI  16.9  1968     110   1   \n",
              "40         기아주식회사          셀토스 1.6디젤 2WD 17\" 타이어 (21)  16.7  1598     111   1   \n",
              "42  폭스바겐그룹코리아주식회사                        T-Roc 2.0TDI  16.5  1968     112   1   \n",
              "64         현대자동차㈜              코나 1.6디젤 2WD (18\" 타이어)  16.8  1598     110   1   \n",
              "75         기아주식회사              셀토스 1.6디젤 2WD (18\"타이어)  16.4  1598     113   1   \n",
              "84         기아주식회사  스토닉 1.6디젤 7DCT 19MY (17\" 타이어) (15)  16.7  1582     111   1   \n",
              "88        BMW코리아㈜             MINI Cooper D Five Door  16.5  1496     113   1   \n",
              "\n",
              "      연간유류비  구분  \n",
              "6   1081500  수입  \n",
              "7   1088095  수입  \n",
              "9   1068548  수입  \n",
              "32  1055902  수입  \n",
              "40  1068548  국산  \n",
              "42  1081500  수입  \n",
              "64  1062188  국산  \n",
              "75  1088095  국산  \n",
              "84  1068548  국산  \n",
              "88  1081500  수입  "
            ],
            "text/html": [
              "\n",
              "  <div id=\"df-56cecfe8-466a-4f35-82d5-de2e3e8e420d\">\n",
              "    <div class=\"colab-df-container\">\n",
              "      <div>\n",
              "<style scoped>\n",
              "    .dataframe tbody tr th:only-of-type {\n",
              "        vertical-align: middle;\n",
              "    }\n",
              "\n",
              "    .dataframe tbody tr th {\n",
              "        vertical-align: top;\n",
              "    }\n",
              "\n",
              "    .dataframe thead th {\n",
              "        text-align: right;\n",
              "    }\n",
              "</style>\n",
              "<table border=\"1\" class=\"dataframe\">\n",
              "  <thead>\n",
              "    <tr style=\"text-align: right;\">\n",
              "      <th></th>\n",
              "      <th>업체명</th>\n",
              "      <th>모델명</th>\n",
              "      <th>표시연비</th>\n",
              "      <th>배기량</th>\n",
              "      <th>co2배출량</th>\n",
              "      <th>등급</th>\n",
              "      <th>연간유류비</th>\n",
              "      <th>구분</th>\n",
              "    </tr>\n",
              "  </thead>\n",
              "  <tbody>\n",
              "    <tr>\n",
              "      <th>6</th>\n",
              "      <td>스텔란티스코리아주식회사</td>\n",
              "      <td>DS4 Crossback 1.5 BlueHDi</td>\n",
              "      <td>16.5</td>\n",
              "      <td>1499</td>\n",
              "      <td>113</td>\n",
              "      <td>1</td>\n",
              "      <td>1081500</td>\n",
              "      <td>수입</td>\n",
              "    </tr>\n",
              "    <tr>\n",
              "      <th>7</th>\n",
              "      <td>폭스바겐그룹코리아주식회사</td>\n",
              "      <td>T-Roc</td>\n",
              "      <td>16.4</td>\n",
              "      <td>1968</td>\n",
              "      <td>114</td>\n",
              "      <td>1</td>\n",
              "      <td>1088095</td>\n",
              "      <td>수입</td>\n",
              "    </tr>\n",
              "    <tr>\n",
              "      <th>9</th>\n",
              "      <td>폭스바겐그룹코리아주식회사</td>\n",
              "      <td>Q2 35 TDI</td>\n",
              "      <td>16.7</td>\n",
              "      <td>1968</td>\n",
              "      <td>111</td>\n",
              "      <td>1</td>\n",
              "      <td>1068548</td>\n",
              "      <td>수입</td>\n",
              "    </tr>\n",
              "    <tr>\n",
              "      <th>32</th>\n",
              "      <td>폭스바겐그룹코리아주식회사</td>\n",
              "      <td>A4 35 TDI</td>\n",
              "      <td>16.9</td>\n",
              "      <td>1968</td>\n",
              "      <td>110</td>\n",
              "      <td>1</td>\n",
              "      <td>1055902</td>\n",
              "      <td>수입</td>\n",
              "    </tr>\n",
              "    <tr>\n",
              "      <th>40</th>\n",
              "      <td>기아주식회사</td>\n",
              "      <td>셀토스 1.6디젤 2WD 17\" 타이어 (21)</td>\n",
              "      <td>16.7</td>\n",
              "      <td>1598</td>\n",
              "      <td>111</td>\n",
              "      <td>1</td>\n",
              "      <td>1068548</td>\n",
              "      <td>국산</td>\n",
              "    </tr>\n",
              "    <tr>\n",
              "      <th>42</th>\n",
              "      <td>폭스바겐그룹코리아주식회사</td>\n",
              "      <td>T-Roc 2.0TDI</td>\n",
              "      <td>16.5</td>\n",
              "      <td>1968</td>\n",
              "      <td>112</td>\n",
              "      <td>1</td>\n",
              "      <td>1081500</td>\n",
              "      <td>수입</td>\n",
              "    </tr>\n",
              "    <tr>\n",
              "      <th>64</th>\n",
              "      <td>현대자동차㈜</td>\n",
              "      <td>코나 1.6디젤 2WD (18\" 타이어)</td>\n",
              "      <td>16.8</td>\n",
              "      <td>1598</td>\n",
              "      <td>110</td>\n",
              "      <td>1</td>\n",
              "      <td>1062188</td>\n",
              "      <td>국산</td>\n",
              "    </tr>\n",
              "    <tr>\n",
              "      <th>75</th>\n",
              "      <td>기아주식회사</td>\n",
              "      <td>셀토스 1.6디젤 2WD (18\"타이어)</td>\n",
              "      <td>16.4</td>\n",
              "      <td>1598</td>\n",
              "      <td>113</td>\n",
              "      <td>1</td>\n",
              "      <td>1088095</td>\n",
              "      <td>국산</td>\n",
              "    </tr>\n",
              "    <tr>\n",
              "      <th>84</th>\n",
              "      <td>기아주식회사</td>\n",
              "      <td>스토닉 1.6디젤 7DCT 19MY (17\" 타이어) (15)</td>\n",
              "      <td>16.7</td>\n",
              "      <td>1582</td>\n",
              "      <td>111</td>\n",
              "      <td>1</td>\n",
              "      <td>1068548</td>\n",
              "      <td>국산</td>\n",
              "    </tr>\n",
              "    <tr>\n",
              "      <th>88</th>\n",
              "      <td>BMW코리아㈜</td>\n",
              "      <td>MINI Cooper D Five Door</td>\n",
              "      <td>16.5</td>\n",
              "      <td>1496</td>\n",
              "      <td>113</td>\n",
              "      <td>1</td>\n",
              "      <td>1081500</td>\n",
              "      <td>수입</td>\n",
              "    </tr>\n",
              "  </tbody>\n",
              "</table>\n",
              "</div>\n",
              "      <button class=\"colab-df-convert\" onclick=\"convertToInteractive('df-56cecfe8-466a-4f35-82d5-de2e3e8e420d')\"\n",
              "              title=\"Convert this dataframe to an interactive table.\"\n",
              "              style=\"display:none;\">\n",
              "        \n",
              "  <svg xmlns=\"http://www.w3.org/2000/svg\" height=\"24px\"viewBox=\"0 0 24 24\"\n",
              "       width=\"24px\">\n",
              "    <path d=\"M0 0h24v24H0V0z\" fill=\"none\"/>\n",
              "    <path d=\"M18.56 5.44l.94 2.06.94-2.06 2.06-.94-2.06-.94-.94-2.06-.94 2.06-2.06.94zm-11 1L8.5 8.5l.94-2.06 2.06-.94-2.06-.94L8.5 2.5l-.94 2.06-2.06.94zm10 10l.94 2.06.94-2.06 2.06-.94-2.06-.94-.94-2.06-.94 2.06-2.06.94z\"/><path d=\"M17.41 7.96l-1.37-1.37c-.4-.4-.92-.59-1.43-.59-.52 0-1.04.2-1.43.59L10.3 9.45l-7.72 7.72c-.78.78-.78 2.05 0 2.83L4 21.41c.39.39.9.59 1.41.59.51 0 1.02-.2 1.41-.59l7.78-7.78 2.81-2.81c.8-.78.8-2.07 0-2.86zM5.41 20L4 18.59l7.72-7.72 1.47 1.35L5.41 20z\"/>\n",
              "  </svg>\n",
              "      </button>\n",
              "      \n",
              "  <style>\n",
              "    .colab-df-container {\n",
              "      display:flex;\n",
              "      flex-wrap:wrap;\n",
              "      gap: 12px;\n",
              "    }\n",
              "\n",
              "    .colab-df-convert {\n",
              "      background-color: #E8F0FE;\n",
              "      border: none;\n",
              "      border-radius: 50%;\n",
              "      cursor: pointer;\n",
              "      display: none;\n",
              "      fill: #1967D2;\n",
              "      height: 32px;\n",
              "      padding: 0 0 0 0;\n",
              "      width: 32px;\n",
              "    }\n",
              "\n",
              "    .colab-df-convert:hover {\n",
              "      background-color: #E2EBFA;\n",
              "      box-shadow: 0px 1px 2px rgba(60, 64, 67, 0.3), 0px 1px 3px 1px rgba(60, 64, 67, 0.15);\n",
              "      fill: #174EA6;\n",
              "    }\n",
              "\n",
              "    [theme=dark] .colab-df-convert {\n",
              "      background-color: #3B4455;\n",
              "      fill: #D2E3FC;\n",
              "    }\n",
              "\n",
              "    [theme=dark] .colab-df-convert:hover {\n",
              "      background-color: #434B5C;\n",
              "      box-shadow: 0px 1px 3px 1px rgba(0, 0, 0, 0.15);\n",
              "      filter: drop-shadow(0px 1px 2px rgba(0, 0, 0, 0.3));\n",
              "      fill: #FFFFFF;\n",
              "    }\n",
              "  </style>\n",
              "\n",
              "      <script>\n",
              "        const buttonEl =\n",
              "          document.querySelector('#df-56cecfe8-466a-4f35-82d5-de2e3e8e420d button.colab-df-convert');\n",
              "        buttonEl.style.display =\n",
              "          google.colab.kernel.accessAllowed ? 'block' : 'none';\n",
              "\n",
              "        async function convertToInteractive(key) {\n",
              "          const element = document.querySelector('#df-56cecfe8-466a-4f35-82d5-de2e3e8e420d');\n",
              "          const dataTable =\n",
              "            await google.colab.kernel.invokeFunction('convertToInteractive',\n",
              "                                                     [key], {});\n",
              "          if (!dataTable) return;\n",
              "\n",
              "          const docLinkHtml = 'Like what you see? Visit the ' +\n",
              "            '<a target=\"_blank\" href=https://colab.research.google.com/notebooks/data_table.ipynb>data table notebook</a>'\n",
              "            + ' to learn more about interactive tables.';\n",
              "          element.innerHTML = '';\n",
              "          dataTable['output_type'] = 'display_data';\n",
              "          await google.colab.output.renderOutput(dataTable, element);\n",
              "          const docLink = document.createElement('div');\n",
              "          docLink.innerHTML = docLinkHtml;\n",
              "          element.appendChild(docLink);\n",
              "        }\n",
              "      </script>\n",
              "    </div>\n",
              "  </div>\n",
              "  "
            ]
          },
          "metadata": {},
          "execution_count": 90
        }
      ]
    },
    {
      "cell_type": "markdown",
      "source": [
        "이미지 가져오기"
      ],
      "metadata": {
        "id": "STUvNu_L-_jO"
      }
    },
    {
      "cell_type": "code",
      "source": [
        "# ResultSet 안의 요소로 이미지가 들어가있음\n",
        "img_list = td[5].find_all('img')\n",
        "# <img id=\"list_RT__ctl99_ico_img\" src=\"../images/ico/1.gif\"/>\n",
        "# 파일명이 등급과 일치하는 것으로 확인되어 src의 인덱스로 가져옴\n",
        "img = img_list[0].get('src')[-5]"
      ],
      "metadata": {
        "id": "QlRRBFes_Uxa"
      },
      "execution_count": 91,
      "outputs": []
    },
    {
      "cell_type": "markdown",
      "source": [
        "## matplotlib 으로 그래프 그리기\n",
        "\n",
        "  - 데이터에 따라 달라지는 그래프 그리기"
      ],
      "metadata": {
        "id": "fas7xDObBu-7"
      }
    },
    {
      "cell_type": "code",
      "source": [
        "import matplotlib.pyplot as plt\n",
        "df['연간유류비'].head(20).plot(kind='bar')\n",
        "plt.xticks(range(20), labels=df['모델명'].head(20), rotation=90)\n",
        "plt.show()"
      ],
      "metadata": {
        "colab": {
          "base_uri": "https://localhost:8080/",
          "height": 470
        },
        "id": "efK1D7UdBwxn",
        "outputId": "21517612-f539-4432-abb7-a2aa084b860b"
      },
      "execution_count": 68,
      "outputs": [
        {
          "output_type": "display_data",
          "data": {
            "text/plain": [
              "<Figure size 432x288 with 1 Axes>"
            ],
            "image/png": "[encoded data removed]"
          },
          "metadata": {
            "needs_background": "light"
          }
        }
      ]
    },
    {
      "cell_type": "code",
      "source": [
        "df['co2배출량'].head(10).plot(kind='bar')\n",
        "plt.title('co2배출량')\n",
        "plt.xticks(range(10), labels=df['모델명'].head(10), rotation=90)\n",
        "plt.show()"
      ],
      "metadata": {
        "colab": {
          "base_uri": "https://localhost:8080/",
          "height": 396
        },
        "id": "lCxTVEX8EzRe",
        "outputId": "4f45f2bf-dfc3-415a-ff5a-c432d2346ed8"
      },
      "execution_count": 69,
      "outputs": [
        {
          "output_type": "display_data",
          "data": {
            "text/plain": [
              "<Figure size 432x288 with 1 Axes>"
            ],
            "image/png": "[encoded data removed]"
          },
          "metadata": {
            "needs_background": "light"
          }
        }
      ]
    },
    {
      "cell_type": "markdown",
      "source": [
        "## seaborn 으로 그래프 그리기\n",
        "\n",
        "  - matplotlib보다 이쁨"
      ],
      "metadata": {
        "id": "aRX7BBhTIFIS"
      }
    },
    {
      "cell_type": "code",
      "source": [
        "df.info()"
      ],
      "metadata": {
        "colab": {
          "base_uri": "https://localhost:8080/"
        },
        "id": "pBp93b_SIns1",
        "outputId": "f5fae69c-ed70-4a01-cb09-0579a4c65b75"
      },
      "execution_count": 15,
      "outputs": [
        {
          "output_type": "stream",
          "name": "stdout",
          "text": [
            "<class 'pandas.core.frame.DataFrame'>\n",
            "RangeIndex: 100 entries, 0 to 99\n",
            "Data columns (total 7 columns):\n",
            " #   Column  Non-Null Count  Dtype  \n",
            "---  ------  --------------  -----  \n",
            " 0   업체명     100 non-null    object \n",
            " 1   모델명     100 non-null    object \n",
            " 2   표시연비    100 non-null    float64\n",
            " 3   배기량     100 non-null    int64  \n",
            " 4   co2배출량  100 non-null    int64  \n",
            " 5   등급      100 non-null    int64  \n",
            " 6   연간유류비   100 non-null    int64  \n",
            "dtypes: float64(1), int64(4), object(2)\n",
            "memory usage: 5.6+ KB\n"
          ]
        }
      ]
    },
    {
      "cell_type": "code",
      "source": [
        "import seaborn as sns\n",
        "\n",
        "plt.figure(figsize=(7,5))\n",
        "# 바형 그래프\n",
        "sns.barplot(x='모델명', y='co2배출량', data=df.head(10))\n",
        "plt.title('co2배출량')\n",
        "plt.xticks(rotation=90)\n"
      ],
      "metadata": {
        "colab": {
          "base_uri": "https://localhost:8080/",
          "height": 499
        },
        "id": "VrJEVNX7ILTm",
        "outputId": "20995b1c-9b8b-461e-c399-3cff6cc86569"
      },
      "execution_count": 30,
      "outputs": [
        {
          "output_type": "execute_result",
          "data": {
            "text/plain": [
              "(array([0, 1, 2, 3, 4, 5, 6, 7, 8]),\n",
              " <a list of 9 Text major ticklabel objects>)"
            ]
          },
          "metadata": {},
          "execution_count": 30
        },
        {
          "output_type": "display_data",
          "data": {
            "text/plain": [
              "<Figure size 504x360 with 1 Axes>"
            ],
            "image/png": "[encoded data removed]"
          },
          "metadata": {
            "needs_background": "light"
          }
        }
      ]
    },
    {
      "cell_type": "code",
      "source": [
        "plt.figure(figsize=(10,10))\n",
        "# 데이터 수 그래프 / hue : 그룹화\n",
        "sns.countplot(y='업체명', hue='등급', data=df)\n",
        "plt.title('업체별 자동차 등급 현황')\n",
        "plt.show()"
      ],
      "metadata": {
        "colab": {
          "base_uri": "https://localhost:8080/",
          "height": 619
        },
        "id": "PcSqCpmKJjux",
        "outputId": "b0140009-3f50-4fa7-f7f8-a0e43a78a8ee"
      },
      "execution_count": 36,
      "outputs": [
        {
          "output_type": "display_data",
          "data": {
            "text/plain": [
              "<Figure size 720x720 with 1 Axes>"
            ],
            "image/png": "[encoded data removed]"
          },
          "metadata": {
            "needs_background": "light"
          }
        }
      ]
    },
    {
      "cell_type": "code",
      "source": [
        "plt.figure(figsize=(5,5))\n",
        "# 히스토그램 + 분포도\n",
        "# sns.displot(df['연간유류비'])\n",
        "# sns.kdeplot(df['연간유류비'])\n",
        "sns.distplot(df['연간유류비'])\n",
        "plt.title('연간 유류비 현황')\n",
        "plt.show()"
      ],
      "metadata": {
        "colab": {
          "base_uri": "https://localhost:8080/",
          "height": 402
        },
        "id": "JQUJ6KNfLMmI",
        "outputId": "0e285326-d691-45b5-956f-5e1ad4c2cf75"
      },
      "execution_count": 67,
      "outputs": [
        {
          "output_type": "stream",
          "name": "stderr",
          "text": [
            "/usr/local/lib/python3.8/dist-packages/seaborn/distributions.py:2619: FutureWarning: `distplot` is a deprecated function and will be removed in a future version. Please adapt your code to use either `displot` (a figure-level function with similar flexibility) or `histplot` (an axes-level function for histograms).\n",
            "  warnings.warn(msg, FutureWarning)\n"
          ]
        },
        {
          "output_type": "display_data",
          "data": {
            "text/plain": [
              "<Figure size 360x360 with 1 Axes>"
            ],
            "image/png": "[encoded data removed]"
          },
          "metadata": {
            "needs_background": "light"
          }
        }
      ]
    },
    {
      "cell_type": "code",
      "source": [
        "plt.figure(figsize=(5,5))\n",
        "# 표시되는 값 : 최솟값, 사분위, 이상치\n",
        "## 1사분위 : 전체의 25%\n",
        "## 2사분위 : 전체의 50%\n",
        "## 3사분위 : 전체의 75%\n",
        "## 4사분위(최댓값) : 3사분위에서 일정 비율로 찍은 값\n",
        "## 이상치 : 최댓값보다 더 높은 값\n",
        "sns.boxplot(x='구분', y='연간유류비', data=df)\n",
        "plt.show()"
      ],
      "metadata": {
        "colab": {
          "base_uri": "https://localhost:8080/",
          "height": 342
        },
        "id": "o9fjzoSoLyQK",
        "outputId": "496d478e-0aee-48fc-8b47-6ed03c6fc00a"
      },
      "execution_count": 54,
      "outputs": [
        {
          "output_type": "display_data",
          "data": {
            "text/plain": [
              "<Figure size 360x360 with 1 Axes>"
            ],
            "image/png": "[encoded data removed]"
          },
          "metadata": {
            "needs_background": "light"
          }
        }
      ]
    }
  ]
}