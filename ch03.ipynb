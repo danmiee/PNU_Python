{
  "cells": [
    {
      "cell_type": "markdown",
      "metadata": {
        "id": "view-in-github",
        "colab_type": "text"
      },
      "source": [
        "<a href=\"https://colab.research.google.com/github/danmiee/Python_PNU/blob/main/ch03.ipynb\" target=\"_parent\"><img src=\"https://colab.research.google.com/assets/colab-badge.svg\" alt=\"Open In Colab\"/></a>"
      ]
    },
    {
      "cell_type": "markdown",
      "metadata": {
        "id": "puz585oTC2Tx"
      },
      "source": [
        "드라마 대본 텍스트 파일 가공하기"
      ]
    },
    {
      "cell_type": "code",
      "execution_count": null,
      "metadata": {
        "id": "Vf4MY98UCyvJ"
      },
      "outputs": [],
      "source": [
        "import re\n",
        "\n",
        "f = open('friends101.txt', 'r')\n",
        "s101 = f.read()\n",
        "print(s101)"
      ]
    },
    {
      "cell_type": "markdown",
      "metadata": {
        "id": "iYwWD7nfDBDS"
      },
      "source": [
        "Monica 대사만 모으기 > monica.txt로 저장"
      ]
    },
    {
      "cell_type": "code",
      "execution_count": null,
      "metadata": {
        "id": "ErXKdawODFIH"
      },
      "outputs": [],
      "source": [
        "# 패턴 설정하여 문자열 찾아오기\n",
        "monica = re.findall(r'Monica: .+',s101)\n",
        "\n",
        "# 작성할 파일 열기\n",
        "f2 = open('monica.txt', 'w', encoding = 'utf-8')\n",
        "\n",
        "# monica 대사를 하나의 문자열로 가져오기\n",
        "mon = ''\n",
        "for line in monica:\n",
        "  # 개행문자 추가하여 가독성 확보\n",
        "  mon += line + \"\\n\"\n",
        "print(mon)\n",
        "# 파일 작성\n",
        "f2.write(mon)\n",
        "f2.close()"
      ]
    },
    {
      "cell_type": "markdown",
      "metadata": {
        "id": "uwKfiK3ZDGlH"
      },
      "source": [
        "\n",
        "등장인물 리스트 만들기"
      ]
    },
    {
      "cell_type": "code",
      "execution_count": null,
      "metadata": {
        "id": "MHRHZulcDLNo"
      },
      "outputs": [],
      "source": [
        "# 패턴 설정하여 문자열 찾아오기\n",
        "char = re.findall(r'[A-Z][a-z]+:',s101)\n",
        "\n",
        "# 반복제거\n",
        "char = list(set(char))\n",
        "\n",
        "# 콜론제거\n",
        "ch = []\n",
        "for i in char:\n",
        "  # ch += [re.sub(r':','',i)]\n",
        "  # ch.append(re.sub(':','',i))\n",
        "  ch.append(i[:-1])\n",
        "print(ch)"
      ]
    },
    {
      "cell_type": "code",
      "source": [
        "# 전체 명령어 한줄로 입력\n",
        "char = [x[:-2] for x in list(set(re.findall(r'[A-Z][a-z]+: ',s101)))]\n",
        "print(char)"
      ],
      "metadata": {
        "id": "vpO2kDYuNIzc"
      },
      "execution_count": null,
      "outputs": []
    },
    {
      "cell_type": "markdown",
      "metadata": {
        "id": "wrbjbA03DLco"
      },
      "source": [
        "지문만 모으기"
      ]
    },
    {
      "cell_type": "code",
      "execution_count": null,
      "metadata": {
        "id": "PczL9ZxjDMdY"
      },
      "outputs": [],
      "source": [
        "# script = re.findall(r'\\([a-zA-Z].+?[a-z|\\.]\\)',s101)\n",
        "# \\(, \\) : 메타문자로 인식하지 않도록 \\ 붙여주기\n",
        "# [a-zA-Z] : 괄호다음 공백없이 영문자\n",
        "# .+ : 문자/숫자/빈칸 등이 자유롭게 반복\n",
        "# ? : 탐욕 제어\n",
        "# [a-z|\\.] : 마지막 글자로 소문자 또는 마침표\n",
        "\n",
        "# 이렇게도 가능\n",
        "script = re.findall(r'\\(.+?\\)',s101)\n",
        "for x in script:\n",
        "  print(x)"
      ]
    },
    {
      "cell_type": "markdown",
      "source": [
        "질문이 있는 대사만 모으기"
      ],
      "metadata": {
        "id": "cxj7fG1jT52R"
      }
    },
    {
      "cell_type": "code",
      "source": [
        "question = re.findall(r':.+?\\?',s101)\n",
        "\n",
        "que = []\n",
        "for line in question:\n",
        "  que.append(line[2:])\n",
        "for x in que:\n",
        "  print(x)\n",
        "f.close()"
      ],
      "metadata": {
        "id": "sMHBpFVHT70B"
      },
      "execution_count": null,
      "outputs": []
    },
    {
      "cell_type": "markdown",
      "metadata": {
        "id": "dULIoEb6DM1I"
      },
      "source": [
        "특정 단어(would)가 들어있는 대사만 모으기"
      ]
    },
    {
      "cell_type": "code",
      "execution_count": null,
      "metadata": {
        "id": "QLElJ1v-DNTA"
      },
      "outputs": [],
      "source": [
        "f = open('friends101.txt', 'r')\n",
        "# readLines를 활용하여 한줄씩 읽어오기\n",
        "s101 = f.readlines()\n",
        "f.close()\n",
        "\n",
        "would=[]\n",
        "# 반복문으로 대사이고 would를 포함한 문자열만 would 배열에 넣어주기\n",
        "for line in s101:\n",
        "  if re.match(r'[A-Z][a-z]+:',line) and re.search(r'would',line):\n",
        "    would.append(line)\n",
        "\n",
        "str = ''.join(would)\n",
        "print(str)\n",
        "\n",
        "# 파일로 저장 > would.txt\n",
        "f = open('would.txt', 'w', encoding='utf-8')\n",
        "f.write(str)\n",
        "f.close()"
      ]
    }
  ],
  "metadata": {
    "colab": {
      "provenance": [],
      "mount_file_id": "1-HnzCI_tb3wSP9J7wiTXxgAlgMDzbD4R",
      "authorship_tag": "ABX9TyMo2AtCAofQuhm+ka11RoBp",
      "include_colab_link": true
    },
    "kernelspec": {
      "display_name": "Python 3",
      "name": "python3"
    },
    "language_info": {
      "name": "python"
    }
  },
  "nbformat": 4,
  "nbformat_minor": 0
}