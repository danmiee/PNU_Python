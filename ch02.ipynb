{
  "nbformat": 4,
  "nbformat_minor": 0,
  "metadata": {
    "colab": {
      "provenance": [],
      "authorship_tag": "ABX9TyM5bojZFisvo84tSr560tZ7",
      "include_colab_link": true
    },
    "kernelspec": {
      "name": "python3",
      "display_name": "Python 3"
    },
    "language_info": {
      "name": "python"
    }
  },
  "cells": [
    {
      "cell_type": "markdown",
      "metadata": {
        "id": "view-in-github",
        "colab_type": "text"
      },
      "source": [
        "<a href=\"https://colab.research.google.com/github/danmiee/Python_PNU/blob/main/ch02.ipynb\" target=\"_parent\"><img src=\"https://colab.research.google.com/assets/colab-badge.svg\" alt=\"Open In Colab\"/></a>"
      ]
    },
    {
      "cell_type": "markdown",
      "source": [
        "0~100 사이의 7의 배수 구하기"
      ],
      "metadata": {
        "id": "Wk05q3I3S_oZ"
      }
    },
    {
      "cell_type": "code",
      "execution_count": 1,
      "metadata": {
        "colab": {
          "base_uri": "https://localhost:8080/"
        },
        "id": "0LyjX29hRG--",
        "outputId": "a9925f12-3c96-4439-e197-72cb78753a31"
      },
      "outputs": [
        {
          "output_type": "stream",
          "name": "stdout",
          "text": [
            "[0, 7, 14, 21, 28, 35, 42, 49, 56, 63, 70, 77, 84, 91, 98]\n"
          ]
        }
      ],
      "source": [
        "list = []\n",
        "for x in range(100):\n",
        "    if x%7==0:\n",
        "      list.append(x)\n",
        "print(list)"
      ]
    },
    {
      "cell_type": "markdown",
      "source": [
        "평균 나이 소수점 첫째자리까지 구하기"
      ],
      "metadata": {
        "id": "yaPo-O8PTEN_"
      }
    },
    {
      "cell_type": "code",
      "source": [
        "age=[50,45,33,39,29,30]\n",
        "avg=sum(age)/len(age)\n",
        "print(round(avg,1))"
      ],
      "metadata": {
        "colab": {
          "base_uri": "https://localhost:8080/"
        },
        "id": "-i6YaIbOTGtd",
        "outputId": "6ab0f316-8c01-4575-8e97-a87d364bbad3"
      },
      "execution_count": 22,
      "outputs": [
        {
          "output_type": "stream",
          "name": "stdout",
          "text": [
            "37.7\n"
          ]
        }
      ]
    },
    {
      "cell_type": "markdown",
      "source": [
        "계란 7개를 담을 수 있는 바구니가 있다. 564개의 계란을 모두 담으려면 몇 개의 바구니가 필요할까?"
      ],
      "metadata": {
        "id": "kq4T2mhsWB5-"
      }
    },
    {
      "cell_type": "code",
      "source": [
        "import math\n",
        "\n",
        "a = math.ceil(564/7)\n",
        "b = math.floor(564/7)\n",
        "\n",
        "print(a,b)"
      ],
      "metadata": {
        "colab": {
          "base_uri": "https://localhost:8080/"
        },
        "id": "AqPDsAahWIde",
        "outputId": "bca06ef1-e6fe-4f6a-e331-b90f99da9ad3"
      },
      "execution_count": 36,
      "outputs": [
        {
          "output_type": "stream",
          "name": "stdout",
          "text": [
            "81 80\n"
          ]
        }
      ]
    },
    {
      "cell_type": "markdown",
      "source": [
        "다음 변환식을 활용하여 섭씨 29도를 화씨 온도로 변환하여 소수점 2자리까지 출력해보시오.\n",
        "F=(C-32)*(5/9)"
      ],
      "metadata": {
        "id": "qvK3FKdpWpy4"
      }
    },
    {
      "cell_type": "code",
      "source": [
        "c=29\n",
        "f=(c*(5/9))+32\n",
        "print('섭씨',c,'도는 화씨',round(f,2),'도 입니다.')\n",
        "# 형식지정자 활용한 표기법\n",
        "print(\"섭씨 %d도는 화씨 %.2f도 입니다.\" % (c,f))\n",
        "# f-string 표기법\n",
        "print(f\"섭씨 {c}도는 화씨 {f:.2f}도 입니다.\")"
      ],
      "metadata": {
        "colab": {
          "base_uri": "https://localhost:8080/"
        },
        "id": "iwRpL3F8WzQl",
        "outputId": "2f60bdc7-45aa-4d79-a646-d0956ab4fbf9"
      },
      "execution_count": 50,
      "outputs": [
        {
          "output_type": "stream",
          "name": "stdout",
          "text": [
            "섭씨 29 도는 화씨 48.11 도 입니다.\n",
            "섭씨 29도는 화씨 48.11도 입니다.\n",
            "섭씨 29도는 화씨 48.11도 입니다.\n"
          ]
        }
      ]
    },
    {
      "cell_type": "markdown",
      "source": [
        "1단부터 19단까지 출력하는 프로그램을 만들어보자"
      ],
      "metadata": {
        "id": "EmCmwoqcW9NV"
      }
    },
    {
      "cell_type": "code",
      "source": [
        "def multiple(num):\n",
        "    for x in range(2,20):\n",
        "      print(num,\" × \",x,\" = \",num*x)\n",
        "\n",
        "for x in range(2,20):\n",
        "  multiple(x)\n",
        "  print()"
      ],
      "metadata": {
        "id": "_KrnKPT3XBgt"
      },
      "execution_count": null,
      "outputs": []
    },
    {
      "cell_type": "markdown",
      "source": [
        "분식가게\n",
        "\n",
        "떡볶이 : 2000 / 라면 : 3000 / 튀김 : 500\n",
        "\n",
        "각 메뉴별 매출과 총 매출을 정리하여 출력해주는 프로그램을 \n",
        "만들어 보자.\n",
        "\n",
        "판매수량 입금받기 / <정산> / 매출금액 노출"
      ],
      "metadata": {
        "id": "kNysN9hlX-ZN"
      }
    },
    {
      "cell_type": "code",
      "source": [
        "def calculate(dbk, ramen, fried):\n",
        "  sum_dbk = int(dbk)*2000\n",
        "  sum_ramen = int(ramen)*3000\n",
        "  sum_fried = int(fried)*500\n",
        "  sum = sum_dbk + sum_ramen + sum_fried\n",
        "  print(f\"떡볶이의 매출: {sum_dbk}원\")\n",
        "  print(f\"라면의 매출: {sum_ramen}원\")\n",
        "  print(f\"튀김의 매출: {sum_fried}원\")\n",
        "  print(f\"오늘의 총 매출은 {sum}원입니다.\")\n",
        "\n",
        "dbk = input(\"떡볶이는 몇 그릇 팔았나요?\")\n",
        "ramen = input(\"라면은 몇 그릇 팔았나요?\")\n",
        "fried = input(\"튀김은 몇 개 팔았나요?\")\n",
        "print(\"-----<오늘의 매출 정산>-----\")\n",
        "calculate(dbk, ramen, fried)"
      ],
      "metadata": {
        "colab": {
          "base_uri": "https://localhost:8080/"
        },
        "id": "d0ZJ1i-FYlig",
        "outputId": "c06014fd-1709-470c-f4b4-2139064e2145"
      },
      "execution_count": 55,
      "outputs": [
        {
          "output_type": "stream",
          "name": "stdout",
          "text": [
            "떡볶이는 몇 그릇 팔았나요?43\n",
            "라면은 몇 그릇 팔았나요?62\n",
            "튀김은 몇 개 팔았나요?89\n",
            "-----<오늘의 매출 정산>-----\n",
            "떡볶이의 매출: 86000원\n",
            "라면의 매출: 186000원\n",
            "튀김의 매출: 44500원\n",
            "오늘의 총 매출은 316500원입니다.\n"
          ]
        }
      ]
    },
    {
      "cell_type": "markdown",
      "source": [
        "지하철 표 판매 자판기\n",
        "\n",
        "돈 넣으면 구간별 표의 수량 입력받기\n",
        "\n",
        "표 가격 제외한 거스름돈 출력\n",
        "\n",
        "1000원 지폐와 100원 동전만 사용하여 반환\n",
        "\n",
        "1구간 : 1300 / 2구간 : 1500"
      ],
      "metadata": {
        "id": "Zgg9BDTmgc7K"
      }
    },
    {
      "cell_type": "code",
      "source": [
        "import math\n",
        "\n",
        "money = int(input(\"투입한 돈은?\"))\n",
        "line1 = int(input(\"1구간 표의 수는?\"))\n",
        "line2 = int(input(\"2구간 표의 수는?\"))\n",
        "\n",
        "change = money - ((line1*1300)+(line2*1500))\n",
        "change_paper = change//1000\n",
        "change_coin = math.floor(change%1000/100)\n",
        "\n",
        "print(f\"잔돈: {change}원\")\n",
        "print(f\"1000원 지폐: {change_paper}장\")\n",
        "print(f\"100원 동전: {change_coin}개\")"
      ],
      "metadata": {
        "colab": {
          "base_uri": "https://localhost:8080/"
        },
        "id": "fnC5SlRsgnzh",
        "outputId": "6aacae11-0b99-4a89-e0d6-5555bb70a99c"
      },
      "execution_count": 4,
      "outputs": [
        {
          "output_type": "stream",
          "name": "stdout",
          "text": [
            "투입한 돈은?10000\n",
            "1구간 표의 수는?3\n",
            "2구간 표의 수는?1\n",
            "잔돈: 4600원\n",
            "1000원 지폐: 4장\n",
            "100원 동전: 6개\n"
          ]
        }
      ]
    },
    {
      "cell_type": "markdown",
      "source": [
        "부가세 자동 계산 프로그램\n",
        "\n",
        "소비자가격 = 물건가격 * 1.1\n",
        "\n",
        "물건가격 = 소비자가격 * (1 / 1.1)\n",
        "\n",
        "부가세 = 물건가격 * 0.1 == 소비자가격 * (1 / 11)"
      ],
      "metadata": {
        "id": "T80cJihQiokx"
      }
    },
    {
      "cell_type": "code",
      "source": [
        "import math\n",
        "\n",
        "price = {'a': 23, 'b': 40, 'c': 67}\n",
        "\n",
        "svc = input(\"서비스 종류를 입력하세요. (a/b/c)\")\n",
        "vat = input(\"부가세를 포함합니까? (y/n)\")\n",
        "result=0\n",
        "\n",
        "if vat=='n':\n",
        "  result = price[svc]\n",
        "else:\n",
        "  result = math.ceil(price[svc]*1.1)\n",
        "\n",
        "print(f\"{result}만 원입니다\")"
      ],
      "metadata": {
        "colab": {
          "base_uri": "https://localhost:8080/"
        },
        "id": "vOj3x9kqi7lR",
        "outputId": "a4f6050a-a93a-4986-f538-f6be656fa3c5"
      },
      "execution_count": 16,
      "outputs": [
        {
          "output_type": "stream",
          "name": "stdout",
          "text": [
            "서비스 종류를 입력하세요. (a/b/c)c\n",
            "부가세를 포함합니까? (y/n)n\n",
            "67만 원입니다\n"
          ]
        }
      ]
    },
    {
      "cell_type": "markdown",
      "source": [
        "연습문제 #3. 코드 오류 수정하기"
      ],
      "metadata": {
        "id": "ZinB4UKumgtu"
      }
    },
    {
      "cell_type": "code",
      "source": [
        "a = input('나이를 입력하세요: ')\n",
        "40-int(a)"
      ],
      "metadata": {
        "colab": {
          "base_uri": "https://localhost:8080/"
        },
        "id": "MTqSvnIUm11A",
        "outputId": "97d6045c-14b3-463c-b24a-4f3f87d79e1f"
      },
      "execution_count": 19,
      "outputs": [
        {
          "name": "stdout",
          "output_type": "stream",
          "text": [
            "나이를 입력하세요: 38\n"
          ]
        },
        {
          "output_type": "execute_result",
          "data": {
            "text/plain": [
              "2"
            ]
          },
          "metadata": {},
          "execution_count": 19
        }
      ]
    },
    {
      "cell_type": "markdown",
      "source": [
        "연습문제 #4. lambda를 사용한 plus 함수\n",
        "\n",
        "34와 5를 더하는 명령?"
      ],
      "metadata": {
        "id": "py79Yoi8nLTe"
      }
    },
    {
      "cell_type": "code",
      "source": [
        "plus = lambda x, y : x + y\n",
        "plus(34, 54)"
      ],
      "metadata": {
        "colab": {
          "base_uri": "https://localhost:8080/"
        },
        "id": "jeOzkk85nVrX",
        "outputId": "d38c7918-4d6e-4b78-c27a-726073937ae2"
      },
      "execution_count": 21,
      "outputs": [
        {
          "output_type": "execute_result",
          "data": {
            "text/plain": [
              "88"
            ]
          },
          "metadata": {},
          "execution_count": 21
        }
      ]
    },
    {
      "cell_type": "markdown",
      "source": [
        "연습문제 #5. def문 사용하여 평균값 출력하는 mean() 생성\n",
        "\n",
        "mean 함수로 출력한 값을 사용하니 오류 발생 > 코드 수정하기"
      ],
      "metadata": {
        "id": "CsscQWWHnVQ3"
      }
    },
    {
      "cell_type": "code",
      "source": [
        "def mean(a, b):\n",
        "  return (a+b)/2\n",
        "\n",
        "print(mean(33, 22))\n",
        "\n",
        "45 + mean(33, 22)"
      ],
      "metadata": {
        "colab": {
          "base_uri": "https://localhost:8080/"
        },
        "id": "EJBV2nIinn02",
        "outputId": "6254fc7b-158e-43bc-9498-e433badf8262"
      },
      "execution_count": 34,
      "outputs": [
        {
          "output_type": "stream",
          "name": "stdout",
          "text": [
            "27.5\n"
          ]
        },
        {
          "output_type": "execute_result",
          "data": {
            "text/plain": [
              "72.5"
            ]
          },
          "metadata": {},
          "execution_count": 34
        }
      ]
    },
    {
      "cell_type": "markdown",
      "source": [
        "연습문제 #6. 리스트 b에0 있는 숫자 중\n",
        "\n",
        "10 미만은 그대로 출력하고 10 이상은 1의 자리만 출력 > 코드 완성하기"
      ],
      "metadata": {
        "id": "yKrUnaqbqey1"
      }
    },
    {
      "cell_type": "code",
      "source": [
        "b = [1, 2, 3, 10, 11, 12]\n",
        "\n",
        "for i in b:\n",
        "  if i < 10:\n",
        "    print(i)\n",
        "  else:\n",
        "    print(i - 10)"
      ],
      "metadata": {
        "colab": {
          "base_uri": "https://localhost:8080/"
        },
        "id": "Z0c4DVWqqtre",
        "outputId": "ee3be574-c60a-48ed-84b4-78d89608049e"
      },
      "execution_count": 35,
      "outputs": [
        {
          "output_type": "stream",
          "name": "stdout",
          "text": [
            "1\n",
            "2\n",
            "3\n",
            "0\n",
            "1\n",
            "2\n"
          ]
        }
      ]
    }
  ]
}